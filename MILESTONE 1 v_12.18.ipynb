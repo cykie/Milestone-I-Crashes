{
 "cells": [
  {
   "cell_type": "code",
   "execution_count": null,
   "metadata": {},
   "outputs": [],
   "source": [
    "import pandas as pd\n",
    "import numpy as np\n",
    "import seaborn as sns\n",
    "import matplotlib.pyplot as plt\n",
    "import folium\n",
    "import warnings\n",
    "import re\n",
    "import requests\n",
    "from IPython.display import display_html \n",
    "from bs4 import BeautifulSoup\n",
    "\n",
    "warnings.filterwarnings(\"ignore\")\n",
    "pd.options.display.max_seq_items = 2000\n",
    "\n",
    "# Sources:\n",
    "# https://www.bikeshare.com/data/\n",
    "# https://www.bluebikes.com/system-data\n",
    "# https://crashviewer.nhtsa.dot.gov/CrashAPI\n",
    "# https://hifld-geoplatform.opendata.arcgis.com/datasets/hospitals/data?selectedAttribute=BEDS Hospital Data\n",
    "# https://en.wikipedia.org/wiki/List_of_United_States_cities_by_population Cities"
   ]
  },
  {
   "cell_type": "code",
   "execution_count": null,
   "metadata": {},
   "outputs": [],
   "source": [
    "# pd.set_option('display.max_rows', 500)\n",
    "# pd.set_option('display.max_columns', 500)\n",
    "# pd.set_option('display.width', 1000)"
   ]
  },
  {
   "cell_type": "code",
   "execution_count": null,
   "metadata": {},
   "outputs": [],
   "source": [
    "# pd.set_option('display.max_rows', None)\n",
    "# pd.set_option('display.max_columns', None)\n",
    "# pd.set_option('display.width', None)\n",
    "# pd.set_option('display.max_colwidth', -1)"
   ]
  },
  {
   "cell_type": "code",
   "execution_count": null,
   "metadata": {},
   "outputs": [],
   "source": [
    "# Dataset is retrieved from: https://crashviewer.nhtsa.dot.gov/CrashAPI\n",
    "# GET FARS data from accident, pbtype, and vehicle tables \n",
    "fars_acc2018 = pd.read_csv('data/FARS/FARS2018/ACCIDENT.csv')\n",
    "fars_acc2017 = pd.read_csv('data/FARS/FARS2017/ACCIDENT.csv')\n",
    "fars_acc2016 = pd.read_csv('data/FARS/FARS2016/ACCIDENT.csv')\n",
    "\n",
    "fars_PB2018 = pd.read_csv('data/FARS/FARS2018/PBTYPE.csv')\n",
    "fars_PB2017 = pd.read_csv('data/FARS/FARS2017/PBTYPE.csv')\n",
    "fars_PB2016 = pd.read_csv('data/FARS/FARS2016/PBTYPE.csv')\n",
    "\n",
    "fars_veh2018 = pd.read_csv('data/FARS/FARS2018/VEHICLE.csv',encoding= 'unicode_escape')\n",
    "fars_veh2017 = pd.read_csv('data/FARS/FARS2017/VEHICLE.csv',encoding= 'unicode_escape')\n",
    "fars_veh2016 = pd.read_csv('data/FARS/FARS2016/VEHICLE.csv',encoding= 'unicode_escape')"
   ]
  },
  {
   "cell_type": "code",
   "execution_count": null,
   "metadata": {},
   "outputs": [],
   "source": [
    "#Join FARS accident and vehicle tables on state and st_case\n",
    "fars_acc_veh_2018 = pd.merge(fars_acc2018, fars_veh2018,  how='left', left_on=['STATE','ST_CASE'], right_on = ['STATE','ST_CASE'])\n",
    "fars_acc_veh_2017 = pd.merge(fars_acc2017, fars_veh2017,  how='left', left_on=['STATE','ST_CASE'], right_on = ['STATE','ST_CASE'])\n",
    "fars_acc_veh_2016 = pd.merge(fars_acc2016, fars_veh2016,  how='left', left_on=['STATE','ST_CASE'], right_on = ['STATE','ST_CASE'])"
   ]
  },
  {
   "cell_type": "code",
   "execution_count": null,
   "metadata": {},
   "outputs": [],
   "source": [
    "#Join FARS accident and vehicle tables on state and st_case\n",
    "fars_all_2018 = pd.merge(fars_acc_veh_2018, fars_PB2018,  how='left', left_on=['STATE','ST_CASE'], right_on = ['STATE','ST_CASE'])\n",
    "fars_all_2017 = pd.merge(fars_acc_veh_2017, fars_PB2017,  how='left', left_on=['STATE','ST_CASE'], right_on = ['STATE','ST_CASE'])\n",
    "fars_all_2016 = pd.merge(fars_acc_veh_2016, fars_PB2016,  how='left', left_on=['STATE','ST_CASE'], right_on = ['STATE','ST_CASE'])"
   ]
  },
  {
   "cell_type": "code",
   "execution_count": null,
   "metadata": {},
   "outputs": [],
   "source": [
    "FARS_16_17_18 = fars_all_2018.append([fars_all_2017, fars_all_2016])"
   ]
  },
  {
   "cell_type": "code",
   "execution_count": null,
   "metadata": {},
   "outputs": [],
   "source": [
    "#GET CRSS data from accident, pbtype, and vehicle tables \n",
    "crss_acc2018 = pd.read_csv('data/CRSS/CRSS2018/ACCIDENT.csv')\n",
    "crss_acc2017 = pd.read_csv('data/CRSS/CRSS2017/ACCIDENT.csv')\n",
    "crss_acc2016 = pd.read_csv('data/CRSS/CRSS2016/ACCIDENT.csv')\n",
    "\n",
    "crss_PB2018 = pd.read_csv('data/CRSS/CRSS2018/PBTYPE.csv')\n",
    "crss_PB2017 = pd.read_csv('data/CRSS/CRSS2017/PBTYPE.csv')\n",
    "crss_PB2016 = pd.read_csv('data/CRSS/CRSS2016/PBTYPE.csv')\n",
    "\n",
    "crss_veh2018 = pd.read_csv('data/CRSS/CRSS2018/VEHICLE.csv',encoding= 'unicode_escape')\n",
    "crss_veh2017 = pd.read_csv('data/CRSS/CRSS2017/VEHICLE.csv',encoding= 'unicode_escape')\n",
    "crss_veh2016 = pd.read_csv('data/CRSS/CRSS2016/VEHICLE.csv',encoding= 'unicode_escape')"
   ]
  },
  {
   "cell_type": "code",
   "execution_count": null,
   "metadata": {},
   "outputs": [],
   "source": [
    "#Join CRSS accident and vehicle tables on state and st_case\n",
    "crss_acc_veh_2018 = pd.merge(crss_acc2018, crss_veh2018,  how='left', left_on=['CASENUM'], right_on = ['CASENUM'])\n",
    "crss_acc_veh_2017 = pd.merge(crss_acc2017, crss_veh2017,  how='left', left_on=['CASENUM'], right_on = ['CASENUM'])\n",
    "crss_acc_veh_2016 = pd.merge(crss_acc2016, crss_veh2016,  how='left', left_on=['CASENUM'], right_on = ['CASENUM'])"
   ]
  },
  {
   "cell_type": "code",
   "execution_count": null,
   "metadata": {},
   "outputs": [],
   "source": [
    "crss_all_2018 = pd.merge(crss_acc_veh_2018, crss_PB2018,  how='left', left_on=['CASENUM','VEH_NO'], right_on = ['CASENUM','VEH_NO'])\n",
    "crss_all_2017 = pd.merge(crss_acc_veh_2017, crss_PB2017,  how='left', left_on=['CASENUM','VEH_NO'], right_on = ['CASENUM','VEH_NO'])\n",
    "crss_all_2016 = pd.merge(crss_acc_veh_2016, crss_PB2016,  how='left', left_on=['CASENUM','VEH_NO'], right_on = ['CASENUM','VEH_NO'])"
   ]
  },
  {
   "cell_type": "code",
   "execution_count": null,
   "metadata": {},
   "outputs": [],
   "source": [
    "CRSS_16_17_18 = crss_all_2018.append([crss_all_2017, crss_all_2016])"
   ]
  },
  {
   "cell_type": "code",
   "execution_count": null,
   "metadata": {},
   "outputs": [],
   "source": [
    "# Web Scrap to collect biggest US cities by population\n",
    "# Get URL, request HTML and create soup\n",
    "URL = 'https://en.wikipedia.org/wiki/List_of_United_States_cities_by_population'\n",
    "page = requests.get(URL)\n",
    "page.content\n",
    "soup = BeautifulSoup(page.content, 'html.parser')\n",
    "\n",
    "# Find all tables and table for interest is table 4, extract it and send it to DF\n",
    "table = soup.find_all('table')\n",
    "top_cities = pd.read_html(str(table))[4]\n",
    "\n",
    "# cities_df = pd.read_csv('data/Cities.csv')\n",
    "#Extract Lat and Long independently to plot cities and convert to float\n",
    "top_cities['Lat'] = top_cities['Location'].str.extract('(\\d+\\.\\d+)').astype(float)\n",
    "top_cities['Lon'] = (top_cities['Location'].str.extract('\\s(\\d+\\.\\d+)').astype(float))*-1\n",
    "\n",
    "#Convert Lat and Long to radians to faciliate creating a radius for the city\n",
    "top_cities['Lat_rad'] = top_cities['Lat'] * np.pi / 180\n",
    "top_cities['Lon_rad'] = top_cities['Lon'] * np.pi / 180\n",
    "\n",
    "# Get land area in km2 (Clean and extract number only)\n",
    "top_cities['Land'] = top_cities['2016 land area.1'].str.extract('([\\d,]+\\.\\d+)').replace(',','')\n",
    "top_cities['Land'] = top_cities['Land'].str.replace(',','').astype(float)\n",
    "\n",
    "#Clean City name\n",
    "top_cities['City'] = top_cities['City'].str.replace(r\"\\[.*\\]\", '')\n",
    "# top_cities\n",
    "\n",
    "# #Remove commas and units for numerical values\n",
    "# cities_df['Estimate 2019'] = cities_df['Estimate 2019'].str.replace(',','').astype(float)\n",
    "# cities_df['Census 2010'] = cities_df['Census 2010'].str.replace(',','').astype(float)"
   ]
  },
  {
   "cell_type": "code",
   "execution_count": null,
   "metadata": {},
   "outputs": [],
   "source": [
    "##PLOT a count of accidents by year and month\n",
    "yr_month_count=FARS_16_17_18.groupby(['YEAR','MONTH_x']).ST_CASE.nunique().reset_index().rename(columns={'ST_CASE':'count'})\n",
    "Months_name = {1:\"Jan\", 2:\"Feb\", 3:\"Mar\", 4:\"Apr\", 5:\"May\", 6:\"Jun\", \n",
    "          7:\"Jul\", 8:\"Aug\", 9:\"Sep\", 10:\"Oct\", 11:\"Nov\", 12:\"Dec\"}\n",
    "yr_month_count=yr_month_count.replace({\"MONTH_x\": Months_name})\n",
    "\n",
    "\n",
    "months = [\"Jan\", \"Feb\", \"Mar\", \"Apr\", \"May\", \"Jun\", \n",
    "          \"Jul\", \"Aug\", \"Sep\", \"Oct\", \"Nov\", \"Dec\"]\n",
    "yr_month_count['month'] = pd.Categorical(yr_month_count['MONTH_x'], categories=months, ordered=True)"
   ]
  },
  {
   "cell_type": "code",
   "execution_count": null,
   "metadata": {},
   "outputs": [],
   "source": [
    "#Comparison of number of fatal accidents from 2016 to 2018\n",
    "months = [\"Jan\", \"Feb\", \"Mar\", \"Apr\", \"May\", \"Jun\", \n",
    "          \"Jul\", \"Aug\", \"Sep\", \"Oct\", \"Nov\", \"Dec\"]\n",
    "yr_month_count['month'] = pd.Categorical(yr_month_count['MONTH_x'], categories=months, ordered=True)\n",
    "plt.figure(figsize=(20,9))\n",
    "ax =sns.lineplot(data = yr_month_count, x='month',y='count', hue='YEAR',style=\"YEAR\",ci=None,palette=\"Paired\",markers=True)\n",
    "ax.set_title('Comparing total number of accidents per month, 2016 To 2018',fontsize=20)\n",
    "sns.set(font_scale=2)\n",
    "sns.set_style(\"white\")\n",
    "\n",
    "plt.show()"
   ]
  },
  {
   "cell_type": "code",
   "execution_count": null,
   "metadata": {},
   "outputs": [],
   "source": [
    "pb=FARS_16_17_18[FARS_16_17_18['PBPTYPE'].notna()]\n",
    "yr_month_count_pb=pb.groupby(['YEAR','MONTH_x']).ST_CASE.nunique().reset_index().rename(columns={'ST_CASE':'count'})\n",
    "\n",
    "Months_name = {1:\"Jan\", 2:\"Feb\", 3:\"Mar\", 4:\"Apr\", 5:\"May\", 6:\"Jun\", \n",
    "          7:\"Jul\", 8:\"Aug\", 9:\"Sep\", 10:\"Oct\", 11:\"Nov\", 12:\"Dec\"}\n",
    "yr_month_count_pb=yr_month_count_pb.replace({\"MONTH_x\": Months_name})\n",
    "\n",
    "months = [\"Jan\", \"Feb\", \"Mar\", \"Apr\", \"May\", \"Jun\", \n",
    "          \"Jul\", \"Aug\", \"Sep\", \"Oct\", \"Nov\", \"Dec\"]\n",
    "yr_month_count_pb['month'] = pd.Categorical(yr_month_count_pb['MONTH_x'], categories=months, ordered=True)\n",
    "plt.figure(figsize=(20,9))\n",
    "ax =sns.lineplot(data = yr_month_count_pb, x='month',y='count', hue='YEAR',style=\"YEAR\",ci=None,palette=\"Paired\",markers=True)\n",
    "ax.set_title('Comparing total number of accidents involves Pedestrian/Bikes per month, 2016 To 2018',fontsize=20)\n",
    "sns.set(font_scale=2)\n",
    "sns.set_style(\"white\")\n",
    "\n",
    "plt.show()"
   ]
  },
  {
   "cell_type": "code",
   "execution_count": null,
   "metadata": {},
   "outputs": [],
   "source": [
    "#Create copy of data\n",
    "FARS=FARS_16_17_18.copy()\n",
    "CRSS=CRSS_16_17_18.copy()\n",
    "#Replace integer with actual values\n",
    "Light_Cond = {1:\"Daylight\", 2:\"Dark – Not Lighted\", 3:\"Dark – Lighted\", 4:\"Dawn\", 5:\"Dusk\", 6:\"Dark – Unknown Lighting\", \n",
    "          7:\"Other\", 8:\"Not Reported\", 9:\"Unknown/Reported as Unknown\", 10:\"Oct\", 11:\"Nov\", 12:\"Dec\"}\n",
    "FARS=FARS.replace({\"LGT_COND\": Light_Cond})\n",
    "CRSS=CRSS.replace({\"LGT_COND\": Light_Cond})\n",
    "\n",
    "Alc_inv = {1:\"Alcohol Involved\", 2:\"No Alcohol Involved\",  8:\"No Applicable Person\",9:\"Unknown\"}\n",
    "CRSS=CRSS.replace({\"ALCOHOL\": Alc_inv})\n",
    "\n",
    "Weather_str={0:\"No Additional Atmospheric Conditions\", 1:\"Clear\", 2:\"Rain\", 3:\"Sleet or Hail\", 4:\"Snow\", \n",
    "         5:\"Fog, Smog, Smoke\", 6:\"Severe Crosswinds\", \n",
    "        7:\"Blowing Sand, Soil, Dirt\", 8:\"Other\",  \n",
    "        10:\"Cloudy\", 11:\"Blowing Snow\", 12:\"Freezing Rain or Drizzle\",\n",
    "        98:\"Unknown/Reported as Unknown\",\n",
    "        99:\"Unknown/Reported as Unknown\"}\n",
    "FARS=FARS.replace({\"WEATHER\": Weather_str})\n",
    "CRSS=CRSS.replace({\"WEATHER\": Weather_str})\n",
    "\n",
    "Manner_collison={0:\"Not Collision with Motor Vehicle in Transport\", 1:\"Front-to-Rear\", 2:\"Front-to-Front\",\n",
    "                 3:\"Angle – Front-to-Side, Same Direction\", 4:\"Angle – Front-to-Side, Opposite Direction\", \n",
    "         5:\"Angle – Front-to-Side, Right Angle (Includes Broadside)\", \n",
    "        6:\"Angle – Front-to-Side/Angle-Direction Not Specified\", \n",
    "        7:\"Sideswipe – Same Direction\", 8:\"Sideswipe – Opposite Direction\",\n",
    "        9:\"Rear-to-Side\",\n",
    "        10:\"Rear-to-Rear\", 11:\"Other (End-Swipes and Others)\", \n",
    "        98:\"Not Reported\",\n",
    "        99:\"Unknown/Reported as Unknown\"}\n",
    "FARS=FARS.replace({\"MAN_COLL_x\": Manner_collison})\n",
    "CRSS=CRSS.replace({\"MAN_COLL_x\": Manner_collison})\n",
    "\n",
    "\n",
    "Rel_Roads={1:\"On Roadway\", 2:\"On Shoulder\", 3:\"On Median\", 4:\"On Roadside\", \n",
    "         5:\"Outside Trafficway\", 6:\"Off Roadway – Location Unknown\", \n",
    "        7:\"In Parking Lane/Zone\", 8:\"Gore\",  \n",
    "        10:\"Separator\", 11:\"Continuous Left Turn Lane\", \n",
    "        12:\"Unknown/Reported as Unknown\",\n",
    "        98:\"Not Reported\",\n",
    "        99:\"Unknown/Reported as Unknown\"}\n",
    "\n",
    "FARS=FARS.replace({\"REL_ROAD\": Rel_Roads})\n",
    "CRSS=CRSS.replace({\"REL_ROAD\": Rel_Roads})\n",
    "\n",
    "\n",
    "Level_Damage_Veh={0:\"No Damage\", 2:\"Minor Damage\", 4:\"Functional Damage\", \n",
    "         6:\"Disabling Damage\", 8:\"Not Reported\", \n",
    "     9:\"Reported as Unknown\"\n",
    "        }\n",
    "\n",
    "FARS=FARS.replace({\"DEFORMED\": Level_Damage_Veh})\n",
    "CRSS=CRSS.replace({\"DEFORMED\": Level_Damage_Veh})\n",
    "\n",
    "\n",
    "Haz_Involve={1:\"No\", 2:\"Yes\"\n",
    "        }\n",
    "\n",
    "FARS=FARS.replace({\"HAZ_INV\": Haz_Involve})\n",
    "CRSS=CRSS.replace({\"HAZ_INV\": Haz_Involve})\n"
   ]
  },
  {
   "cell_type": "markdown",
   "metadata": {},
   "source": [
    "### Let's compare major factors between fatal crash and injury-only crash."
   ]
  },
  {
   "cell_type": "markdown",
   "metadata": {},
   "source": [
    "##### First, let's take a look at light condition between Fatal and Injury-only Crash.\n",
    "From the visualization, the majority of accidents in both types of accidents happen under the condition of 'Daylight'. However, more percentage of fatal accidents happened in 'Dark-Lighted', 'Dark-Not lighted' compared to injury-only accidents. \n",
    "So light condition is an important factor."
   ]
  },
  {
   "cell_type": "code",
   "execution_count": null,
   "metadata": {},
   "outputs": [],
   "source": [
    "FARS.dropna(subset=['LGT_COND','VE_TOTAL','DRUNK_DR'],inplace = True)\n",
    "CRSS.dropna(subset=['LGT_COND','VE_TOTAL','ALCOHOL'],inplace = True)\n",
    "FARS_sort = FARS.sort_values('LGT_COND',ascending=True)\n",
    "CRSS_sort = CRSS.sort_values('LGT_COND',ascending=True)\n",
    "f,ax=plt.subplots(1,2,figsize=(15,10))\n",
    "sns.set(font_scale=1)\n",
    "rc={'font.size': 10, 'axes.labelsize': 12, \n",
    "    'axes.titlesize': 15, 'xtick.labelsize':8, 'ytick.labelsize': 8}\n",
    "sns.set_context(rc=rc)\n",
    "sns.set_style(\"white\")\n",
    "\n",
    "sns.histplot(FARS_sort[\"LGT_COND\"],ax=ax[0])\n",
    "ax[0].set_title('Distribution of Light Condition - Fatal Accident')\n",
    "plt.setp(ax[0].get_xticklabels(), rotation=90)\n",
    "\n",
    "\n",
    "\n",
    "sns.histplot(CRSS_sort[\"LGT_COND\"],ax=ax[1])\n",
    "ax[1].set_title('Distribution of Light Condition - Injury-Only')\n",
    "plt.setp(ax[1].get_xticklabels(), rotation=90)\n",
    "plt.show()\n"
   ]
  },
  {
   "cell_type": "markdown",
   "metadata": {},
   "source": [
    "##### Next, let's take a look and see if single car accident/multi-car accident is another factor leading to fatal accidents.\n",
    "So from the chart below, it is surprisingly that among fatal accidents, 36% of fatal accidents are single vehicle accidents while only 16% of injury-only are single-vehicle accidents. Both fatal and injury-only accidents has 2-vehicle accidents as the majority. "
   ]
  },
  {
   "cell_type": "code",
   "execution_count": null,
   "metadata": {},
   "outputs": [],
   "source": [
    "#from IPython.display import display_html \n",
    "FARS_ve=FARS.groupby(['VE_TOTAL'])['ST_CASE'].count().reset_index().rename(columns={'ST_CASE':'COUNT'})\n",
    "FARS_ve=FARS_ve.set_index(['VE_TOTAL'])\n",
    "FARS_ve[\"%\"] = FARS_ve.apply(lambda x:  100*x / x.sum())\n",
    "\n",
    "CRSS_ve=CRSS.groupby(['VE_TOTAL'])['CASENUM'].count().reset_index().rename(columns={'ST_CASE':'COUNT'})\n",
    "CRSS_ve=CRSS_ve.set_index(['VE_TOTAL'])\n",
    "CRSS_ve[\"%\"] = CRSS_ve.apply(lambda x:  100*x / x.sum())\n",
    "\n",
    "FARS_ve_styler = FARS_ve.style.set_table_attributes(\"style='display:inline'\").set_caption('Fatal-accident')\n",
    "CRSS_ve_styler = CRSS_ve.style.set_table_attributes(\"style='display:inline'\").set_caption('Injury-Only accident')\n",
    "\n",
    "display_html(FARS_ve_styler._repr_html_()+CRSS_ve_styler._repr_html_(), raw=True)"
   ]
  },
  {
   "cell_type": "code",
   "execution_count": null,
   "metadata": {},
   "outputs": [],
   "source": [
    "f,ax=plt.subplots(1,2,figsize=(15,10))\n",
    "sns.set(font_scale=1)\n",
    "rc={'font.size': 10, 'axes.labelsize': 12, \n",
    "    'axes.titlesize': 15, 'xtick.labelsize':10, 'ytick.labelsize': 10}\n",
    "sns.set_context(rc=rc)\n",
    "sns.set_style(\"white\")\n",
    "sns.histplot(FARS[\"VE_TOTAL\"],ax=ax[0],binwidth=1)\n",
    "ax[0].set_title('Distribution of Total Vehicles Involved - Fatal Accident')\n",
    "ax[0].set(xlim=(0,8))\n",
    "\n",
    "sns.histplot(CRSS[\"VE_TOTAL\"],ax=ax[1],binwidth=1)\n",
    "ax[1].set_title('Distribution of Total Vehicles Involved - Injury-Only')\n",
    "ax[1].set(xlim=(0,8))\n",
    "    \n",
    "plt.show()\n",
    "\n"
   ]
  },
  {
   "cell_type": "markdown",
   "metadata": {},
   "source": [
    "##### As alcohol involvement is a critical factor for accident, let's compare it.\n",
    "It's good that we see the majority in both fatal and injury-only accidents are non-alcohol involved.\n",
    "However, if we compare fatal with injury-only, we could see that 24.73% of fatal accidents has at least 1 drunk driver involved."
   ]
  },
  {
   "cell_type": "code",
   "execution_count": null,
   "metadata": {},
   "outputs": [],
   "source": [
    "#from IPython.display import display_html \n",
    "FARS_al=FARS.groupby(['DRUNK_DR'])['ST_CASE'].count().reset_index().rename(columns={'ST_CASE':'COUNT'})\n",
    "FARS_al=FARS_al.set_index(['DRUNK_DR'])\n",
    "FARS_al[\"%\"] = FARS_al.apply(lambda x:  100*x / x.sum())\n",
    "\n",
    "CRSS_al=CRSS.groupby(['ALCOHOL'])['CASENUM'].count().reset_index().rename(columns={'ST_CASE':'COUNT'})\n",
    "CRSS_al=CRSS_al.set_index(['ALCOHOL'])\n",
    "CRSS_al[\"%\"] = CRSS_al.apply(lambda x:  100*x / x.sum())\n",
    "\n",
    "FARS_al_styler = FARS_al.style.set_table_attributes(\"style='display:inline'\").set_caption('Fatal-accident')\n",
    "CRSS_al_styler = CRSS_al.style.set_table_attributes(\"style='display:inline'\").set_caption('Injury-Only accident')\n",
    "\n",
    "display_html(FARS_al_styler._repr_html_()+CRSS_al_styler._repr_html_(), raw=True)"
   ]
  },
  {
   "cell_type": "code",
   "execution_count": null,
   "metadata": {},
   "outputs": [],
   "source": [
    "f,ax=plt.subplots(1,2,figsize=(15,10))\n",
    "sns.set(font_scale=1)\n",
    "rc={'font.size': 10, 'axes.labelsize': 12, \n",
    "    'axes.titlesize': 15, 'xtick.labelsize':10, 'ytick.labelsize': 10}\n",
    "sns.set_context(rc=rc)\n",
    "sns.set_style(\"white\")\n",
    "sns.histplot(FARS[\"DRUNK_DR\"],ax=ax[0],binwidth=1)\n",
    "ax[0].set_title('Distribution of Drunk Driver Involved - Fatal Accident')\n",
    "#ax[0].set(xlim=(0,5))\n",
    "\n",
    "sns.histplot(CRSS[\"ALCOHOL\"],ax=ax[1],binwidth=2)\n",
    "ax[1].set_title('Distribution of Alcohol Involved - Injury-Only')\n",
    "plt.setp(ax[1].get_xticklabels(), rotation=90)\n",
    "\n",
    "\n",
    "plt.show()"
   ]
  },
  {
   "cell_type": "markdown",
   "metadata": {},
   "source": [
    "##### Now, let's see if weather will lead to more fatal accidents.\n",
    "From the chart, we could see that the weather distribution is very identical between two type of accidents.\n",
    "Thus, we may know that weather isn't a key factor that cause fatal accident."
   ]
  },
  {
   "cell_type": "code",
   "execution_count": null,
   "metadata": {},
   "outputs": [],
   "source": [
    "FARS_w=FARS.groupby(['WEATHER'])['ST_CASE'].count().reset_index().rename(columns={'ST_CASE':'COUNT'})\n",
    "FARS_w=FARS_w.set_index(['WEATHER'])\n",
    "FARS_w[\"%\"] = FARS_w.apply(lambda x:  100*x / x.sum())\n",
    "\n",
    "CRSS_w=CRSS.groupby(['WEATHER'])['CASENUM'].count().reset_index().rename(columns={'ST_CASE':'COUNT'})\n",
    "CRSS_w=CRSS_w.set_index(['WEATHER'])\n",
    "CRSS_w[\"%\"] = CRSS_w.apply(lambda x:  100*x / x.sum())\n",
    "\n",
    "FARS_w_styler = FARS_w.style.set_table_attributes(\"style='display:inline'\").set_caption('Fatal-accident')\n",
    "CRSS_w_styler = CRSS_w.style.set_table_attributes(\"style='display:inline'\").set_caption('Injury-Only accident')\n",
    "\n",
    "display_html(FARS_w_styler._repr_html_()+CRSS_w_styler._repr_html_(), raw=True)"
   ]
  },
  {
   "cell_type": "code",
   "execution_count": null,
   "metadata": {},
   "outputs": [],
   "source": [
    "FARS_sort = FARS.sort_values('WEATHER',ascending=True)\n",
    "CRSS_sort = CRSS.sort_values('WEATHER',ascending=True)\n",
    "\n",
    "f,ax=plt.subplots(1,2,figsize=(15,10))\n",
    "sns.set(font_scale=1)\n",
    "rc={'font.size': 10, 'axes.labelsize': 12, \n",
    "    'axes.titlesize': 15, 'xtick.labelsize':8, 'ytick.labelsize': 8}\n",
    "sns.set_context(rc=rc)\n",
    "sns.set_style(\"white\")\n",
    "#FARS.dropna(subset=['WEATHER'],inplace = True)\n",
    "#CRSS.dropna(subset=['WEATHER'],inplace = True)\n",
    "\n",
    "sns.histplot(FARS_sort[\"WEATHER\"],ax=ax[0])\n",
    "ax[0].set_title('Distribution of Weather - Fatal Accident')\n",
    "plt.setp(ax[0].get_xticklabels(), rotation=90)\n",
    "\n",
    "sns.histplot(CRSS_sort[\"WEATHER\"],ax=ax[1])\n",
    "ax[1].set_title('Distribution of Weather - Injury-Only')\n",
    "plt.setp(ax[1].get_xticklabels(), rotation=90)\n",
    "plt.show()"
   ]
  },
  {
   "cell_type": "markdown",
   "metadata": {},
   "source": [
    "##### Next, we will take a look at how the collion manner different between both accidents.\n",
    "What we have noticed that 43.3% of fatal accidents are 'Not Collision with Motor Vehicle in Transport' which aligns with what we have seen in the factor or single-vehicle/muti-vehicle.\n",
    "Besides, we find out that more (14.36%) fatal accidents has front-to-front manner of collision compared to 3.7% injury-only accident. \n"
   ]
  },
  {
   "cell_type": "code",
   "execution_count": null,
   "metadata": {},
   "outputs": [],
   "source": [
    "FARS_col=FARS.groupby(['MAN_COLL_x'])['ST_CASE'].count().reset_index().rename(columns={'ST_CASE':'COUNT'})\n",
    "FARS_col=FARS_col.set_index(['MAN_COLL_x'])\n",
    "FARS_col[\"%\"] = FARS_col.apply(lambda x:  100*x / x.sum())\n",
    "\n",
    "CRSS_col=CRSS.groupby(['MAN_COLL_x'])['CASENUM'].count().reset_index().rename(columns={'ST_CASE':'COUNT'})\n",
    "CRSS_col=CRSS_col.set_index(['MAN_COLL_x'])\n",
    "CRSS_col[\"%\"] = CRSS_col.apply(lambda x:  100*x / x.sum())\n",
    "\n",
    "FARS_col_styler = FARS_col.style.set_table_attributes(\"style='display:inline'\").set_caption('Fatal-accident')\n",
    "CRSS_col_styler = CRSS_col.style.set_table_attributes(\"style='display:inline'\").set_caption('Injury-Only accident')\n",
    "\n",
    "display_html(FARS_col_styler._repr_html_()+CRSS_col_styler._repr_html_(), raw=True)"
   ]
  },
  {
   "cell_type": "code",
   "execution_count": null,
   "metadata": {},
   "outputs": [],
   "source": [
    "FARS_sort = FARS.sort_values('MAN_COLL_x',ascending=True)\n",
    "CRSS_sort = CRSS.sort_values('MAN_COLL_x',ascending=True)\n",
    "\n",
    "f,ax=plt.subplots(1,2,figsize=(15,10))\n",
    "sns.set(font_scale=1)\n",
    "rc={'font.size': 10, 'axes.labelsize': 12, \n",
    "    'axes.titlesize': 15, 'xtick.labelsize':8, 'ytick.labelsize': 8}\n",
    "sns.set_context(rc=rc)\n",
    "sns.set_style(\"white\")\n",
    "#FARS.dropna(subset=['WEATHER'],inplace = True)\n",
    "#CRSS.dropna(subset=['WEATHER'],inplace = True)\n",
    "\n",
    "sns.histplot(FARS_sort[\"MAN_COLL_x\"],ax=ax[0])\n",
    "ax[0].set_title('Distribution of Manner of Collision - Fatal Accident')\n",
    "plt.setp(ax[0].get_xticklabels(), rotation=90)\n",
    "\n",
    "sns.histplot(CRSS_sort[\"MAN_COLL_x\"],ax=ax[1])\n",
    "ax[1].set_title('Distribution of Manner of Collision - Injury-Only')\n",
    "plt.setp(ax[1].get_xticklabels(), rotation=90)\n",
    "plt.show()"
   ]
  },
  {
   "cell_type": "markdown",
   "metadata": {},
   "source": [
    "##### We are curious to see the position of the crash relates to the trafficway.\n",
    "The Rel_road variable identifies the location of the crash as it relates to its position within or outside the trafficway.\n",
    "Combine this information with the manner of collision, we could get more sense of how and where the collison happened in a traffic way.\n",
    "\n",
    "When we compare both types of accidents, the majority happens 'On Roadway'.\n",
    "What differs is more (19.81%) fatal accidents happen 'On Roadside' compared to 7.41% of injury-only accident. This further validates that single-vehicle or vehicle that is not in collision with another vehicle is more common in fatal accident."
   ]
  },
  {
   "cell_type": "code",
   "execution_count": null,
   "metadata": {},
   "outputs": [],
   "source": [
    "FARS_rel=FARS.groupby(['REL_ROAD'])['ST_CASE'].count().reset_index().rename(columns={'ST_CASE':'COUNT'})\n",
    "FARS_rel=FARS_rel.set_index(['REL_ROAD'])\n",
    "FARS_rel[\"%\"] = FARS_rel.apply(lambda x:  100*x / x.sum())\n",
    "\n",
    "CRSS_rel=CRSS.groupby(['REL_ROAD'])['CASENUM'].count().reset_index().rename(columns={'ST_CASE':'COUNT'})\n",
    "CRSS_rel=CRSS_rel.set_index(['REL_ROAD'])\n",
    "CRSS_rel[\"%\"] = CRSS_rel.apply(lambda x:  100*x / x.sum())\n",
    "\n",
    "FARS_rel_styler = FARS_rel.style.set_table_attributes(\"style='display:inline'\").set_caption('Fatal-accident')\n",
    "CRSS_rel_styler = CRSS_rel.style.set_table_attributes(\"style='display:inline'\").set_caption('Injury-Only accident')\n",
    "\n",
    "display_html(FARS_rel_styler._repr_html_()+CRSS_rel_styler._repr_html_(), raw=True)"
   ]
  },
  {
   "cell_type": "code",
   "execution_count": null,
   "metadata": {},
   "outputs": [],
   "source": [
    "FARS.dropna(subset=['REL_ROAD'],inplace = True)\n",
    "CRSS.dropna(subset=['REL_ROAD'],inplace = True)\n",
    "FARS_sort = FARS.sort_values('REL_ROAD',ascending=True)\n",
    "CRSS_sort = CRSS.sort_values('REL_ROAD',ascending=True)\n",
    "\n",
    "f,ax=plt.subplots(1,2,figsize=(15,10))\n",
    "sns.set(font_scale=1)\n",
    "rc={'font.size': 10, 'axes.labelsize': 12, \n",
    "    'axes.titlesize': 15, 'xtick.labelsize':8, 'ytick.labelsize': 8}\n",
    "sns.set_context(rc=rc)\n",
    "sns.set_style(\"white\")\n",
    "#FARS.dropna(subset=['WEATHER'],inplace = True)\n",
    "#CRSS.dropna(subset=['WEATHER'],inplace = True)\n",
    "\n",
    "sns.histplot(FARS_sort[\"REL_ROAD\"],ax=ax[0])\n",
    "ax[0].set_title('Distribution of Relationship to TrafficWay - Fatal Accident')\n",
    "plt.setp(ax[0].get_xticklabels(), rotation=90)\n",
    "\n",
    "sns.histplot(CRSS_sort[\"REL_ROAD\"],ax=ax[1])\n",
    "ax[1].set_title('Distribution of Relationship to TrafficWay - Injury-Only')\n",
    "plt.setp(ax[1].get_xticklabels(), rotation=90)\n",
    "plt.show()"
   ]
  },
  {
   "cell_type": "markdown",
   "metadata": {},
   "source": [
    "##### According to WHO, accidents that involve hazardous material may lead to more fatal accidents.\n",
    "Our dataset sample doesn't include much data records which has hazardous material involvement. But by quick check, we still see difference between fatal accidents and injury-only accident. Although we can't conclude that this factor plays large part, but 0.28% of our fatal-accidents records is hazardous material involved, while only 0.05% of our injury-only accidents are hazardous material involved."
   ]
  },
  {
   "cell_type": "code",
   "execution_count": null,
   "metadata": {},
   "outputs": [],
   "source": [
    "FARS_haz=FARS.groupby(['HAZ_INV'])['ST_CASE'].count().reset_index().rename(columns={'ST_CASE':'COUNT'})\n",
    "FARS_haz=FARS_haz.set_index(['HAZ_INV'])\n",
    "FARS_haz[\"%\"] = FARS_haz.apply(lambda x:  100*x / x.sum())\n",
    "\n",
    "CRSS_haz=CRSS.groupby(['HAZ_INV'])['CASENUM'].count().reset_index().rename(columns={'ST_CASE':'COUNT'})\n",
    "CRSS_haz=CRSS_haz.set_index(['HAZ_INV'])\n",
    "CRSS_haz[\"%\"] = CRSS_haz.apply(lambda x:  100*x / x.sum())\n",
    "\n",
    "FARS_haz_styler = FARS_haz.style.set_table_attributes(\"style='display:inline'\").set_caption('Fatal-accident')\n",
    "CRSS_haz_styler = CRSS_haz.style.set_table_attributes(\"style='display:inline'\").set_caption('Injury-Only accident')\n",
    "\n",
    "display_html(FARS_haz_styler._repr_html_()+CRSS_haz_styler._repr_html_(), raw=True)"
   ]
  },
  {
   "cell_type": "code",
   "execution_count": null,
   "metadata": {},
   "outputs": [],
   "source": [
    "#FARS.dropna(subset=['HAZ_INV'],inplace = True)\n",
    "#CRSS.dropna(subset=['HAZ_INV'],inplace = True)\n",
    "\n",
    "f,ax=plt.subplots(1,2,figsize=(15,10))\n",
    "sns.set(font_scale=1)\n",
    "rc={'font.size': 10, 'axes.labelsize': 12, \n",
    "    'axes.titlesize': 15, 'xtick.labelsize':8, 'ytick.labelsize': 8}\n",
    "sns.set_context(rc=rc)\n",
    "sns.set_style(\"white\")\n",
    "#FARS.dropna(subset=['WEATHER'],inplace = True)\n",
    "#CRSS.dropna(subset=['WEATHER'],inplace = True)\n",
    "\n",
    "sns.histplot(FARS[\"HAZ_INV\"],ax=ax[0])\n",
    "ax[0].set_title('Distribution of Hazordous Material Involvement - Fatal Accident')\n",
    "plt.setp(ax[0].get_xticklabels(), rotation=90)\n",
    "\n",
    "sns.histplot(CRSS[\"HAZ_INV\"],ax=ax[1])\n",
    "ax[1].set_title('Distribution of Hazordous Material Involvement - Injury-Only')\n",
    "plt.setp(ax[1].get_xticklabels(), rotation=90)\n",
    "plt.show()"
   ]
  },
  {
   "cell_type": "code",
   "execution_count": null,
   "metadata": {},
   "outputs": [],
   "source": [
    "test_bar=FARS.groupby(['DEFORMED','HAZ_INV'])['ST_CASE'].count().reset_index().rename(columns={'ST_CASE':'COUNT'})\n",
    "test_bar1=CRSS.groupby(['DEFORMED','HAZ_INV'])['CASENUM'].count().reset_index().rename(columns={'CASENUM':'COUNT'})"
   ]
  },
  {
   "cell_type": "code",
   "execution_count": null,
   "metadata": {},
   "outputs": [],
   "source": [
    "#test_bar1=test_bar1.set_index(['DEFORMED',\"HAZ_INV\"])\n",
    "#test_bar1[\"%\"] = test_bar1.groupby(level=0).apply(lambda x:  100*x / x.sum())\n",
    "#test_bar1"
   ]
  },
  {
   "cell_type": "code",
   "execution_count": null,
   "metadata": {},
   "outputs": [],
   "source": [
    "#test_bar=test_bar.set_index(['DEFORMED',\"HAZ_INV\"])\n",
    "#test_bar[\"%\"] = test_bar.groupby(level=0).apply(lambda x:  100*x / x.sum())\n",
    "#test_bar"
   ]
  },
  {
   "cell_type": "code",
   "execution_count": null,
   "metadata": {},
   "outputs": [],
   "source": [
    "#sns.barplot(x = 'DEFORMED',\n",
    " #           y = 'COUNT',\n",
    "  #          hue='HAZ_INV',\n",
    "   #         data = test_bar)"
   ]
  },
  {
   "cell_type": "markdown",
   "metadata": {},
   "source": [
    "### Now, we will focus more on fatal-crash and find if there's any patterns among this type of accident."
   ]
  },
  {
   "cell_type": "code",
   "execution_count": null,
   "metadata": {},
   "outputs": [],
   "source": [
    "heatmap_dam_ve=FARS.groupby(['DEFORMED','VE_TOTAL'])['ST_CASE'].count().reset_index().rename(columns={'ST_CASE':'COUNT'})\n",
    "#test_heatmap"
   ]
  },
  {
   "cell_type": "code",
   "execution_count": null,
   "metadata": {},
   "outputs": [],
   "source": [
    "fig, ax = plt.subplots(figsize=(20,15))         # Sample figsize in inches\n",
    "\n",
    "heatmap_dam_ve_2 = pd.pivot_table(data=heatmap_dam_ve,\n",
    "                    index='DEFORMED',\n",
    "                    values='COUNT',\n",
    "                    columns='VE_TOTAL')\n",
    "sns.heatmap(heatmap_dam_ve_2,cmap='coolwarm',annot=True,fmt=\".1f\",annot_kws={'size':12},linewidths=.5, ax=ax)\n",
    "plt.show()"
   ]
  },
  {
   "cell_type": "markdown",
   "metadata": {},
   "source": [
    "##### Let's see if speeding is directly related to fatal accident.\n",
    "Speed_rel records whether the driver's speed was related to the crash as indicated by law enforcement.\n",
    "\n",
    "So we can see that 21.31% of fatal accidents is directly related to speeding. Among which, 6.9% exceeded speed limit and 7.6% is too fast for conditions. This implies that speeding is one of the major reason leads to fatal accident. Although we have educated drivers not to exceed speed limit and drive not too fast, there are still lots of space to improve."
   ]
  },
  {
   "cell_type": "code",
   "execution_count": null,
   "metadata": {},
   "outputs": [],
   "source": [
    "FARS_sp=FARS.groupby(['SPEEDREL'])['ST_CASE'].count().reset_index().rename(columns={'ST_CASE':'COUNT'})\n",
    "FARS_sp=FARS_sp.set_index(['SPEEDREL'])\n",
    "FARS_sp[\"%\"] = FARS_sp.apply(lambda x:  100*x / x.sum())\n",
    "\n",
    "CRSS_sp=CRSS.groupby(['SPEEDREL'])['CASENUM'].count().reset_index().rename(columns={'ST_CASE':'COUNT'})\n",
    "CRSS_sp=CRSS_sp.set_index(['SPEEDREL'])\n",
    "CRSS_sp[\"%\"] = CRSS_sp.apply(lambda x:  100*x / x.sum())\n",
    "\n",
    "FARS_sp_styler = FARS_sp.style.set_table_attributes(\"style='display:inline'\").set_caption('Fatal-accident')\n",
    "CRSS_sp_styler = CRSS_sp.style.set_table_attributes(\"style='display:inline'\").set_caption('Injury-Only accident')\n",
    "\n",
    "display_html(FARS_sp_styler._repr_html_()+CRSS_sp_styler._repr_html_(), raw=True)"
   ]
  },
  {
   "cell_type": "code",
   "execution_count": null,
   "metadata": {},
   "outputs": [],
   "source": [
    "Speed_rel={0:\"No\", 2:\"Yes, Racing\", 3:\"Yes, Exceeded Speed Limit\", \n",
    "         4:\"Yes, Too Fast for Conditions\", 5:\"Yes, Specifics Unknown\",\n",
    "           8:\"No Driver Present/Unknown if Driver Present\",\n",
    "     9:\"Reported as Unknown\"\n",
    "        }\n",
    "\n",
    "FARS=FARS.replace({\"SPEEDREL\": Speed_rel})\n",
    "\n",
    "\n",
    "\n",
    "conditions = [\n",
    "    (FARS['SPEEDREL'] == 'Yes, Racing') | (FARS['SPEEDREL'] == 'Yes, Exceeded Speed Limit')|(FARS['SPEEDREL'] == 'Yes, Too Fast for Conditions')\n",
    "    |(FARS['SPEEDREL'] == 'Yes, Specifics Unknown')\n",
    "    ,(FARS['SPEEDREL'] == 'No')| (FARS['SPEEDREL'] == 'No Driver Present/Unknown if Driver Present'),\n",
    " (FARS['SPEEDREL'] == 'Reported as Unknown')]\n",
    "choices = ['Yes, speed related crash', 'No','Unknown']\n",
    "FARS['SPEEDREL_BIN'] = np.select(conditions, choices, default='Unknown')"
   ]
  },
  {
   "cell_type": "markdown",
   "metadata": {},
   "source": [
    "##### We already know that speed is critical factor, and let's combine it with the level of damage of vehicles.\n",
    "From the box plot, we can confirm that the level of damage is more severe as travelling speed increases.\n",
    "We have further categorize the accident based on speed_rel and the color grey marks the accident which is speed related according to law enforcement. \n",
    "We could see that in the most severe damage 'Disabling damage', the overall travelling speed is higher compared to the other level of damage. And at the same time, the 'speed related crash' has the highest median speed at 69 mph.\n",
    "From this plot, we could learn that speed is also directly related to vehicle level of damage."
   ]
  },
  {
   "cell_type": "code",
   "execution_count": null,
   "metadata": {},
   "outputs": [],
   "source": [
    "FARS_Trv_sp = FARS[FARS['TRAV_SP']<997]\n",
    "FARS_Trv_sp = FARS_Trv_sp.sort_values('SPEEDREL_BIN',ascending=True)\n",
    "plt.figure(figsize=(15,8))\n",
    "ax=sns.boxplot(x = 'DEFORMED', y = 'TRAV_SP', hue=\"SPEEDREL_BIN\", data = FARS_Trv_sp,linewidth=2,fliersize=5,palette=\"Set2\") \n",
    "_ = ax.set_xticklabels(ax.get_xticklabels(), rotation=0)\n",
    "sns.set(font_scale =1)\n",
    "ax.set(ylim=(0, 200))\n",
    "ax.set_title('Travel Speed by Damage Level',fontsize=18)\n",
    "sns.set_style(\"white\")\n",
    "\n",
    "#Let's show the median values in the plot.\n",
    "m1 = FARS_Trv_sp.groupby(['DEFORMED',\"SPEEDREL_BIN\"])['TRAV_SP'].median().values\n",
    "mL1 = [str(np.round(s, 2)) for s in m1]\n",
    "\n",
    "\n",
    "ind = 0\n",
    "for tick in range(len(ax.get_xticklabels())):\n",
    "    ax.text(tick, m1[ind+1]+m1[ind+1]*0.1, mL1[ind+1],  horizontalalignment='center', size='medium', color='blue', weight='bold')\n",
    "    ax.text(tick+0.25, m1[ind+2]+m1[ind+2]*0.1, mL1[ind+2],  horizontalalignment='center', size='medium', color='blue', weight='bold')\n",
    "    ax.text(tick-0.25, m1[ind]+m1[ind]*0.1, mL1[ind], horizontalalignment='center', size='medium',color='blue', weight='bold')\n",
    "    ind += 3 \n",
    "\n",
    "plt.show()\n"
   ]
  },
  {
   "cell_type": "code",
   "execution_count": null,
   "metadata": {},
   "outputs": [],
   "source": [
    "FARS_Trv_sp.groupby(['DEFORMED',\"SPEEDREL_BIN\"])['TRAV_SP'].median()"
   ]
  },
  {
   "cell_type": "code",
   "execution_count": null,
   "metadata": {},
   "outputs": [],
   "source": [
    "#Rur_Urban={1:\"Rural\", 2:\"Urban\",  6:\"Trafficway Not in State Inventory\", \n",
    " #        8:\"Not Reported\",9:\"Unknown\"}\n",
    "\n",
    "#FARS=FARS.replace({\"RUR_URB\": Rur_Urban})\n",
    "\n",
    "#plt.figure(figsize=(15,8))\n",
    "#ax=sns.boxplot(x = 'RUR_URB', y = 'FATALS', data = FARS,linewidth=2,fliersize=5) \n",
    "#_# = ax.set_xticklabels(ax.get_xticklabels(), rotation=90)\n",
    "#sns.set(font_scale =1)\n",
    "#ax.set(ylim=(0, 10))\n",
    "#ax.set_title('Fatals by Rural/Urban',fontsize=18)\n",
    "#sns.set_style(\"white\")\n",
    "\n",
    "#Let's show the median values in the plot.\n",
    "#mean3 = FARS.groupby(['RUR_URB'])['FATALS'].mean()\n",
    "#mean=mean3.round(decimals=2)\n",
    "#vertical_offset = FARS['FATALS'].mean() * 0.5 # offset from median for display\n",
    "\n",
    "#for xtick in ax.get_xticks():\n",
    " #   ax.text(xtick,mean[xtick] + vertical_offset,mean[xtick], \n",
    " #           horizontalalignment='center',size='medium',color='blue',weight='semibold')\n",
    "\n",
    "#plt.show()"
   ]
  },
  {
   "cell_type": "code",
   "execution_count": null,
   "metadata": {},
   "outputs": [],
   "source": [
    "#route_str={1:\"Interstate\", 2:\"U.S. Highway\", 3:\"State Highway\",4:\"County Road\", \n",
    "#       5:\"Local Street – Township\",6:\"Local Street – Municipality\", \n",
    "#       7:\"Local Street – Frontage Road (Since 1994)\",\n",
    "#         8:\"Other\",9:\"Unknown\"}\n",
    "\n",
    "#FARS=FARS.replace({\"ROUTE\": route_str})\n",
    "\n",
    "#plt.figure(figsize=(15,8))\n",
    "#ax=sns.boxplot(x = 'ROUTE', y = 'FATALS', data = FARS,linewidth=2,fliersize=5) \n",
    "#_ = ax.set_xticklabels(ax.get_xticklabels(), rotation=90)\n",
    "#sns.set(font_scale =1)\n",
    "#ax.set(ylim=(0, 10))\n",
    "#ax.set_title('Fatals by Rural/Urban',fontsize=18)\n",
    "#sns.set_style(\"white\")\n",
    "\n",
    "#Let's show the median values in the plot.\n",
    "#mean2 = FARS.groupby(['ROUTE'])['FATALS'].mean()\n",
    "#mean=mean2.round(decimals=2)\n",
    "#vertical_offset = FARS['FATALS'].mean() * 0.5 # offset from median for display\n",
    "\n",
    "#for xtick in ax.get_xticks():\n",
    "#    ax.text(xtick,mean[xtick] + vertical_offset,mean[xtick], \n",
    "#            horizontalalignment='center',size='medium',color='blue',weight='semibold')\n",
    "\n",
    "#plt.show()"
   ]
  },
  {
   "cell_type": "code",
   "execution_count": null,
   "metadata": {},
   "outputs": [],
   "source": [
    "FARS.columns"
   ]
  },
  {
   "cell_type": "code",
   "execution_count": null,
   "metadata": {},
   "outputs": [],
   "source": [
    "CRSS.columns"
   ]
  },
  {
   "cell_type": "code",
   "execution_count": null,
   "metadata": {},
   "outputs": [],
   "source": [
    "#Filtering records containing Not, Arr and Hosp Time\n",
    "FARS_hosp_time = FARS_16_17_18[(FARS_16_17_18['NOT_HOUR']!=99) & (FARS_16_17_18['NOT_HOUR']!=88) & \n",
    "                                      (FARS_16_17_18['ARR_HOUR']!=99) & (FARS_16_17_18['ARR_HOUR']!=88) & \n",
    "                                      (FARS_16_17_18['HOSP_HR']!=99) & (FARS_16_17_18['HOSP_HR']!=88)&\n",
    "                              (FARS_16_17_18['NOT_MIN']!=99)&(FARS_16_17_18['NOT_MIN']!=88)&\n",
    "                              (FARS_16_17_18['ARR_MIN']!=99)&(FARS_16_17_18['ARR_MIN']!=88)&\n",
    "                              (FARS_16_17_18['HOSP_MN']!=99)&(FARS_16_17_18['HOSP_MN']!=88)]\n",
    "FARS_hosp_time1 = FARS_hosp_time[['NOT_HOUR', 'NOT_MIN', 'ARR_HOUR', 'ARR_MIN', 'HOSP_HR', 'HOSP_MN']]\n",
    "#FARS_hosp_time1['NOT_MIN'].unique()"
   ]
  },
  {
   "cell_type": "code",
   "execution_count": null,
   "metadata": {},
   "outputs": [],
   "source": [
    "FARS_hosp_time['Notification_Time'] = (pd.to_datetime(FARS_hosp_time['YEAR'].astype(str) + ':'+\n",
    "                                                      FARS_hosp_time['MONTH_x'].astype(str) + ':'+\n",
    "                                                      FARS_hosp_time['DAY_x'].astype(str) + ':'+\n",
    "                                                      FARS_hosp_time['NOT_HOUR'].astype(str) + ':' +\n",
    "                                                            FARS_hosp_time['NOT_MIN'].astype(str), \n",
    "                                                            format='%Y:%m:%d:%H:%M'))\n"
   ]
  },
  {
   "cell_type": "code",
   "execution_count": null,
   "metadata": {},
   "outputs": [],
   "source": [
    "FARS_hosp_time['Arrival_Time'] = (pd.to_datetime(FARS_hosp_time['YEAR'].astype(str) + ':'+\n",
    "                                                 FARS_hosp_time['MONTH_x'].astype(str) + ':'+\n",
    "                                                 FARS_hosp_time['DAY_x'].astype(str) + ':'+\n",
    "                                                 FARS_hosp_time['ARR_HOUR'].astype(str) + ':' +\n",
    "                                                 FARS_hosp_time['ARR_MIN'].astype(str), \n",
    "                                                             format='%Y:%m:%d:%H:%M'))"
   ]
  },
  {
   "cell_type": "code",
   "execution_count": null,
   "metadata": {},
   "outputs": [],
   "source": [
    "FARS_hosp_time['Hospital_Time'] = (pd.to_datetime(FARS_hosp_time['YEAR'].astype(str) + ':'+\n",
    "                                                      FARS_hosp_time['MONTH_x'].astype(str) + ':'+\n",
    "                                                      FARS_hosp_time['DAY_x'].astype(str) + ':'+\n",
    "                                                      FARS_hosp_time['HOSP_HR'].astype(str) + ':' +\n",
    "                                                           FARS_hosp_time['HOSP_MN'].astype(str), \n",
    "                                                            format='%Y:%m:%d:%H:%M'))\n",
    "\n",
    "\n"
   ]
  },
  {
   "cell_type": "code",
   "execution_count": null,
   "metadata": {},
   "outputs": [],
   "source": [
    "FARS_hosp_time['Time_to_Accident'] = (FARS_hosp_time['Arrival_Time'] - \n",
    "                                        FARS_hosp_time['Notification_Time'])\n",
    "\n",
    "FARS_hosp_time['Time_to_Hospital'] = (FARS_hosp_time['Hospital_Time'] - \n",
    "                                         FARS_hosp_time['Arrival_Time'])\n",
    "\n",
    "FARS_hosp_time['Total_Time'] = (FARS_hosp_time['Hospital_Time'] - \n",
    "                                         FARS_hosp_time['Notification_Time'])\n",
    "FARS_hosp_time"
   ]
  },
  {
   "cell_type": "code",
   "execution_count": null,
   "metadata": {},
   "outputs": [],
   "source": [
    "#Convert Lat and Lon to radians in the FARS data to extract fatalities in a radius for top ten cities\n",
    "FARS_16_17_18['Lat_rad'] = FARS_16_17_18['LATITUDE'] * np.pi / 180\n",
    "FARS_16_17_18['Lon_rad'] = FARS_16_17_18['LONGITUD'] * np.pi / 180\n",
    "\n",
    "def radius(Lat1, Lon1, Lat2, Lon2):\n",
    "    # http://www.movable-type.co.uk/scripts/latlong.html?from=48.6093070,-122.4259880&to=48.5928360,-122.4216130\n",
    "    # http://janmatuschek.de/LatitudeLongitudeBoundingCoordinates\n",
    "    # Lat/Lon1 is for the top city and Lat/Lon2 is for the accident in FARS data set\n",
    "    return np.arccos((np.sin(Lat1) * np.sin(Lat2)) + \n",
    "                     (np.cos(Lat1) * np.cos(Lat2) * np.cos(Lon2 - (Lon1)))) * 6371\n",
    "\n",
    "rad = np.sqrt(top_cities['Land'][0])\n",
    "\n",
    "ny_df = FARS_16_17_18[radius(top_cities['Lat_rad'][0],top_cities['Lon_rad'][0],FARS_16_17_18['Lat_rad'], FARS_16_17_18['Lon_rad']) <= rad].reset_index()\n",
    "\n",
    "FARS_Top_Cities = pd.DataFrame() \n",
    "\n",
    "for i in range(len(top_cities)):\n",
    "    rad = np.sqrt(top_cities['Land'][i])\n",
    "    FARS_Top_Cities = FARS_Top_Cities.append(FARS_16_17_18[radius(top_cities['Lat_rad'][i],\n",
    "                                                                  top_cities['Lon_rad'][i],\n",
    "                                                                  FARS_16_17_18['Lat_rad'], \n",
    "                                                                  FARS_16_17_18['Lon_rad']) <= rad])\n",
    "    \n",
    "    \n",
    "    \n",
    "FARS_Top_Cities.reset_index(inplace=True)"
   ]
  },
  {
   "cell_type": "code",
   "execution_count": null,
   "metadata": {},
   "outputs": [],
   "source": [
    "# Create Folium Map of Top ten cities and add different attributes to the map such as Bike Stations, Accidents, Hospitals...\n",
    "m = folium.Map(location=[40, -96], zoom_start=4.4,prefer_canvas=True)\n",
    "\n",
    "for i in range(len(top_cities)): #Top Ten Cities\n",
    "    folium.Circle(location=[top_cities['Lat'][i], top_cities['Lon'][i]],\n",
    "      popup='name',\n",
    "      radius=15,\n",
    "      color='blue',\n",
    "      fill=True,\n",
    "      fill_color='blue'\n",
    "   ).add_to(m)\n",
    "    \n",
    "for i in range(len(FARS_Top_Cities)): #Crash\n",
    "    folium.Circle(location=[FARS_Top_Cities['LATITUDE'][i], FARS_Top_Cities['LONGITUD'][i]],\n",
    "      popup='name',\n",
    "      radius=80,\n",
    "      color='red',\n",
    "      fill=True,\n",
    "      fill_color='red'\n",
    "   ).add_to(m)    \n",
    "    \n",
    "# for i in range(len(crash_boston_cyclist_df)): #Crash invovled cyclist\n",
    "#     folium.Circle(location=[crash_boston_cyclist_df['latitude'][i], crash_boston_cyclist_df['longitud'][i]],\n",
    "#       popup='name',\n",
    "#       radius=500,\n",
    "#       color='yellow',\n",
    "#       fill=True,\n",
    "#       fill_color='yellow'\n",
    "#    ).add_to(m)   \n",
    "    \n",
    "# for i in range(len(hospitals_df)): #Hospital Location\n",
    "#     folium.Circle(location=[hospitals_df['LATITUDE'][i], hospitals_df['LONGITUDE'][i]],\n",
    "#       popup='name',\n",
    "#       radius=50,\n",
    "#       color='green',\n",
    "#       fill=True,\n",
    "#       fill_color='green'\n",
    "#    ).add_to(m) \n",
    "\n",
    "m"
   ]
  },
  {
   "cell_type": "code",
   "execution_count": null,
   "metadata": {},
   "outputs": [],
   "source": []
  }
 ],
 "metadata": {
  "kernelspec": {
   "display_name": "Python 3",
   "language": "python",
   "name": "python3"
  },
  "language_info": {
   "codemirror_mode": {
    "name": "ipython",
    "version": 3
   },
   "file_extension": ".py",
   "mimetype": "text/x-python",
   "name": "python",
   "nbconvert_exporter": "python",
   "pygments_lexer": "ipython3",
   "version": "3.9.0"
  }
 },
 "nbformat": 4,
 "nbformat_minor": 4
}
